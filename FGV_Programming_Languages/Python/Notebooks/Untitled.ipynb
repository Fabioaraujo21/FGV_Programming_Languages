{
 "cells": [
  {
   "cell_type": "code",
   "execution_count": 7,
   "metadata": {},
   "outputs": [],
   "source": [
    "lista = [1,2,3,4,5,6]"
   ]
  },
  {
   "cell_type": "code",
   "execution_count": 8,
   "metadata": {},
   "outputs": [],
   "source": [
    "lista2 = [1,2,3]"
   ]
  },
  {
   "cell_type": "code",
   "execution_count": 9,
   "metadata": {},
   "outputs": [],
   "source": [
    "lista.insert(1,lista2)"
   ]
  },
  {
   "cell_type": "code",
   "execution_count": 10,
   "metadata": {},
   "outputs": [
    {
     "name": "stdout",
     "output_type": "stream",
     "text": [
      "[1, [1, 2, 3], 2, 3, 4, 5, 6]\n"
     ]
    }
   ],
   "source": [
    "print(lista)"
   ]
  },
  {
   "cell_type": "code",
   "execution_count": 12,
   "metadata": {},
   "outputs": [],
   "source": [
    "texto = '''Diante de um bom motivo\n",
    "Que me traga fé, que me traga fé\n",
    "Se por alguns segundos eu observar\n",
    "E só observar\n",
    "A isca e o anzol, a isca e o anzol\n",
    "A isca e o anzol, a isca e o anzol\n",
    "Ainda assim estarei pronto pra comemorar\n",
    "Se eu me tornar menos faminto\n",
    "Que curioso, que curioso\n",
    "O mar escuro trará o medo lado a lado\n",
    "Com os corais mais coloridos\n",
    "Valeu a pena, eh eh\n",
    "Valeu a pena, eh eh\n",
    "Sou pescador de ilusões\n",
    "Sou pescador de ilusões'''"
   ]
  },
  {
   "cell_type": "code",
   "execution_count": 13,
   "metadata": {},
   "outputs": [],
   "source": [
    "texto = texto.replace('a','@')"
   ]
  },
  {
   "cell_type": "code",
   "execution_count": 15,
   "metadata": {},
   "outputs": [],
   "source": [
    "texto = texto.replace('o','0')\n",
    "texto = texto.replace('i','!')\n",
    "texto = texto.replace('e','3')"
   ]
  },
  {
   "cell_type": "code",
   "execution_count": 16,
   "metadata": {},
   "outputs": [
    {
     "data": {
      "text/plain": [
       "'D!@nt3 d3 um b0m m0t!v0\\nQu3 m3 tr@g@ fé, qu3 m3 tr@g@ fé\\nS3 p0r @lguns s3gund0s 3u 0bs3rv@r\\nE só 0bs3rv@r\\nA !sc@ 3 0 @nz0l, @ !sc@ 3 0 @nz0l\\nA !sc@ 3 0 @nz0l, @ !sc@ 3 0 @nz0l\\nA!nd@ @ss!m 3st@r3! pr0nt0 pr@ c0m3m0r@r\\nS3 3u m3 t0rn@r m3n0s f@m!nt0\\nQu3 cur!0s0, qu3 cur!0s0\\nO m@r 3scur0 tr@rá 0 m3d0 l@d0 @ l@d0\\nC0m 0s c0r@!s m@!s c0l0r!d0s\\nV@l3u @ p3n@, 3h 3h\\nV@l3u @ p3n@, 3h 3h\\nS0u p3sc@d0r d3 !lusõ3s\\nS0u p3sc@d0r d3 !lusõ3s'"
      ]
     },
     "execution_count": 16,
     "metadata": {},
     "output_type": "execute_result"
    }
   ],
   "source": [
    "texto"
   ]
  },
  {
   "cell_type": "code",
   "execution_count": 20,
   "metadata": {},
   "outputs": [
    {
     "name": "stdout",
     "output_type": "stream",
     "text": [
      "Digite um número1\n",
      "Digite outro número2\n",
      "A soma vale 3\n"
     ]
    }
   ],
   "source": [
    "a = int(input('Digite um número'))\n",
    "b = int(input('Digite outro número'))\n",
    "s = a + b\n",
    "print('A soma vale {}'.format(s))"
   ]
  },
  {
   "cell_type": "code",
   "execution_count": 22,
   "metadata": {},
   "outputs": [
    {
     "name": "stdout",
     "output_type": "stream",
     "text": [
      "Digite um número1\n",
      "Digite outro número2\n",
      "A soma entre 1 e 2 vale 3\n"
     ]
    }
   ],
   "source": [
    "a = int(input('Digite um número'))\n",
    "b = int(input('Digite outro número'))\n",
    "s = a + b\n",
    "print('A soma entre {} e {} vale {}'.format(a,b,s))"
   ]
  },
  {
   "cell_type": "code",
   "execution_count": 26,
   "metadata": {},
   "outputs": [
    {
     "name": "stdout",
     "output_type": "stream",
     "text": [
      "Digite algo5\n",
      "True\n",
      "<class 'str'>\n",
      "False\n",
      "<class 'str'>\n",
      "True\n",
      "<class 'str'>\n"
     ]
    }
   ],
   "source": [
    "x = input('Digite algo')\n",
    "print(x.isnumeric())\n",
    "print(type(x))\n",
    "print(x.isalpha())\n",
    "print(type(x))\n",
    "print(x.isalnum())\n",
    "print(type(x))\n"
   ]
  },
  {
   "cell_type": "code",
   "execution_count": 80,
   "metadata": {},
   "outputs": [],
   "source": [
    "def oque():\n",
    "    x = input('Digite algo')\n",
    "    if x.isnumeric() == True:\n",
    "        print('{} é numérico'.format(x))\n",
    "    elif x.isalpha() == True:\n",
    "        print('{} é Alfabético'.format(x))\n",
    "    else: \n",
    "        x.isalnum == True\n",
    "        print('{} é Alfanumérico'.format(x))"
   ]
  },
  {
   "cell_type": "code",
   "execution_count": 81,
   "metadata": {},
   "outputs": [
    {
     "name": "stdout",
     "output_type": "stream",
     "text": [
      "Digite algo4h\n",
      "4h é Alfanumérico\n"
     ]
    }
   ],
   "source": [
    "oque()"
   ]
  },
  {
   "cell_type": "code",
   "execution_count": 85,
   "metadata": {},
   "outputs": [
    {
     "name": "stdout",
     "output_type": "stream",
     "text": [
      "Digite algo4\n",
      "É um número? True\n"
     ]
    }
   ],
   "source": [
    " x = input('Digite algo')\n",
    "print('É um número? {}'.format(x.isnumeric()))"
   ]
  },
  {
   "cell_type": "code",
   "execution_count": null,
   "metadata": {},
   "outputs": [],
   "source": []
  }
 ],
 "metadata": {
  "kernelspec": {
   "display_name": "Python 3",
   "language": "python",
   "name": "python3"
  },
  "language_info": {
   "codemirror_mode": {
    "name": "ipython",
    "version": 3
   },
   "file_extension": ".py",
   "mimetype": "text/x-python",
   "name": "python",
   "nbconvert_exporter": "python",
   "pygments_lexer": "ipython3",
   "version": "3.5.2"
  }
 },
 "nbformat": 4,
 "nbformat_minor": 2
}
